{
  "cells": [
    {
      "cell_type": "markdown",
      "metadata": {
        "id": "ms4cW3l0Lhwx"
      },
      "source": [
        "<hr style=\"border:2px solid gray\"> </hr>\n",
        "\n",
        "#  Traveling Salesman Problem\n",
        "\n",
        "## Example Code\n",
        "\n",
        "### Algorithm 4: Genetic Algorithm\n",
        "\n",
        "<hr style=\"border:2px solid gray\"> </hr>"
      ]
    },
    {
      "cell_type": "code",
      "execution_count": 1,
      "metadata": {
        "id": "x8TKyjNyLhwz",
        "colab": {
          "base_uri": "https://localhost:8080/"
        },
        "outputId": "e240f0a5-ece9-4c40-a42e-1d85de3f4fb1"
      },
      "outputs": [
        {
          "output_type": "execute_result",
          "data": {
            "text/plain": [
              "<contextlib.ExitStack at 0x7d428e9e7140>"
            ]
          },
          "metadata": {},
          "execution_count": 1
        }
      ],
      "source": [
        "# package list\n",
        "import numpy as np\n",
        "import sys\n",
        "from sklearn.metrics.pairwise import euclidean_distances\n",
        "import matplotlib.pyplot as plt\n",
        "import time\n",
        "import random\n",
        "import functools\n",
        "\n",
        "# Global Variables\n",
        "# GA\n",
        "POOL_SIZE = 20\n",
        "TOURNAMENT_SIZE = 3\n",
        "MAX_ITERATION = 20000\n",
        "TIME_LIMIT = 57\n",
        "# Plot Settings\n",
        "PLOT_MODE = True # Draw Route\n",
        "plt.ion()\n"
      ]
    },
    {
      "cell_type": "code",
      "source": [
        "#important! 여기는 수정 금지\n",
        "def timing(func):\n",
        "    \"\"\"함수 실행 시간을 측정하는 데코레이터\"\"\"\n",
        "    @functools.wraps(func)\n",
        "    def wrapper(*args, **kwargs):\n",
        "        start = time.time()\n",
        "        result = func(*args, **kwargs)\n",
        "        end = time.time()\n",
        "        print(f\"{func.__name__} 실행 시간: {end - start:.6f} 초\")\n",
        "        return result\n",
        "    return wrapper\n",
        "\n",
        "SEED = 42\n",
        "np.random.seed(SEED)   # numpy 전역 시드\n",
        "random.seed(SEED)      # 파이썬 내장 random 시드"
      ],
      "metadata": {
        "id": "RIBEYZ6DTANf"
      },
      "execution_count": 2,
      "outputs": []
    },
    {
      "cell_type": "code",
      "execution_count": 3,
      "metadata": {
        "id": "eRLCYqRFpgRP"
      },
      "outputs": [],
      "source": [
        "file_path = 'round1.txt'"
      ]
    },
    {
      "cell_type": "markdown",
      "metadata": {
        "id": "0yuoOGnBLhwz"
      },
      "source": [
        "# Step 1. Data Loading"
      ]
    },
    {
      "cell_type": "code",
      "execution_count": 4,
      "metadata": {
        "id": "mLNFGgzVLhwz"
      },
      "outputs": [],
      "source": [
        "def fileloader():\n",
        "    #     Data Format\n",
        "    #     ---------------------------------------------------------\n",
        "    #     NAME : pia3056\n",
        "    #     COMMENT : Bonn VLSI data set with 3056 points\n",
        "    #     COMMENT : Uni Bonn, Research Institute for Discrete Math\n",
        "    #     COMMENT : Contributed by Andre Rohe\n",
        "    #     TYPE : TSP\n",
        "    #     DIMENSION : 3056 -----------------------------|\n",
        "    #     EDGE_WEIGHT_TYPE : EUC_2D                     |\n",
        "    #     NODE_COORD_SECTION                            |\n",
        "    #     1 0 11 (2 dimentional coordinate of city)     |\n",
        "    #     2 0 115                                       |\n",
        "    #     ...                                           |\n",
        "    #     ...(Total 3056 nodes)<------------------------|\n",
        "    #     EOF\n",
        "    #     ---------------------------------------------------------\n",
        "    with open(file_path, \"r\") as file:\n",
        "        file_str = file.readlines()\n",
        "\n",
        "    # Get the coordinates of cities\n",
        "    coord_str = file_str[8:-1]  # first city string to last city string (EOF 전까지)\n",
        "    coord_list = np.zeros((len(coord_str), 2))\n",
        "    for idx, item in enumerate(coord_str):\n",
        "        items = item.split()\n",
        "        coord_list[idx, 0], coord_list[idx, 1] = float(items[1]), float(items[2])\n",
        "\n",
        "    return coord_list"
      ]
    },
    {
      "cell_type": "markdown",
      "metadata": {
        "id": "r2_Zz2qhLhwz"
      },
      "source": [
        "# Step 2. Initialization"
      ]
    },
    {
      "cell_type": "code",
      "execution_count": 5,
      "metadata": {
        "id": "53makwiLLhw0"
      },
      "outputs": [],
      "source": [
        "def path_cost(path_map, path):\n",
        "\n",
        "    return path_map[path[:-1], path[1:]].sum()\n",
        "\n",
        "def initialize_greedy(coord_list, path_map, first_idx):\n",
        "    n = len(coord_list)\n",
        "    path = np.zeros(n + 1, dtype=np.int32)\n",
        "    path[0] = path[-1] = first_idx\n",
        "\n",
        "    visited = np.ones(n, dtype=bool) # 모두 방문해야 함을 True로 표시\n",
        "    visited[first_idx] = False # 시작점은 방문한 것으로 처리\n",
        "\n",
        "    current_city = first_idx\n",
        "    for i in range(1, n):\n",
        "        dist = path_map[current_city].copy()\n",
        "        dist[~visited] = np.inf # 아직 방문하지 않은(True) 도시들 중에서만 선택\n",
        "        next_city = np.argmin(dist)\n",
        "        path[i] = next_city\n",
        "        visited[next_city] = False\n",
        "        current_city = next_city\n",
        "\n",
        "    return path\n",
        "\n",
        "def initialize_random(coord_list, first_idx):\n",
        "    n = len(coord_list)\n",
        "    path = np.zeros(n + 1, dtype=np.int32)\n",
        "    path[0] = path[-1] = first_idx\n",
        "\n",
        "    rem = np.delete(np.arange(n, dtype=np.int32), first_idx)\n",
        "    path[1:-1] = np.random.permutation(rem)\n",
        "\n",
        "    return path"
      ]
    },
    {
      "cell_type": "markdown",
      "metadata": {
        "id": "PXVupCHlLhw0"
      },
      "source": [
        "# Step 3. Searching a path\n",
        "\n",
        "## Algorithm 4. Genetic Algorithm"
      ]
    },
    {
      "cell_type": "code",
      "execution_count": 6,
      "metadata": {
        "id": "1QJmIcjaLhw0"
      },
      "outputs": [],
      "source": [
        "def initialization(coord_list, path_map, pool_size):\n",
        "    \"\"\"초기 해 집단을 생성합니다 (그리디 + 랜덤).\"\"\"\n",
        "    n = len(coord_list)\n",
        "    path_pool = np.zeros((pool_size, n + 1), dtype=np.int32)\n",
        "    pool_cost = np.zeros(pool_size)\n",
        "\n",
        "    # 해 집단의 절반은 그리디, 절반은 랜덤으로 생성\n",
        "    greedy_count = pool_size // 2\n",
        "\n",
        "    greedy_starts = np.random.choice(n, greedy_count, replace=False)\n",
        "    for i in range(greedy_count):\n",
        "        path_pool[i, :] = initialize_greedy(coord_list, path_map, greedy_starts[i])\n",
        "        pool_cost[i] = path_cost(path_map, path_pool[i, :])\n",
        "\n",
        "    for i in range(greedy_count, pool_size):\n",
        "        start = np.random.randint(0, n)\n",
        "        path_pool[i, :] = initialize_random(coord_list, start)\n",
        "        pool_cost[i] = path_cost(path_map, path_pool[i, :])\n",
        "\n",
        "    return path_pool, pool_cost"
      ]
    },
    {
      "cell_type": "code",
      "execution_count": 7,
      "metadata": {
        "id": "SLJOzCdXLhw0"
      },
      "outputs": [],
      "source": [
        "def selection(pool_cost, k):\n",
        "    \"\"\"토너먼트 선택.\"\"\"\n",
        "    selected_indices = np.random.choice(len(pool_cost), k, replace=False)\n",
        "    tournament_costs = pool_cost[selected_indices]\n",
        "    winner_local_idx = np.argmin(tournament_costs)\n",
        "    return selected_indices[winner_local_idx]\n",
        "\n",
        "def crossover_ox1(p1, p2):\n",
        "    \"\"\"Order Crossover (OX1).\"\"\"\n",
        "    n = len(p1) - 1  # 도시의 수\n",
        "\n",
        "    # 실제 순열이 담긴 경로의 핵심 부분 (길이: n-1)\n",
        "    p1_core = p1[1:-1]\n",
        "    p2_core = p2[1:-1]\n",
        "\n",
        "    # 자식의 핵심 경로 배열 (길이: n-1)\n",
        "    child_core = np.full(n - 1, -1, dtype=np.int32)\n",
        "\n",
        "    # 교차점 두 개를 핵심 경로 길이(n-1) 내에서 선택\n",
        "    start, end = np.sort(np.random.choice(range(n - 1), 2, replace=False))\n",
        "\n",
        "    # 부모1의 유전자 일부를 자식에게 복사\n",
        "    child_core[start:end+1] = p1_core[start:end+1]\n",
        "\n",
        "    # 부모2에서, 자식에게 아직 없는 유전자를 순서대로 추출\n",
        "    p2_genes_to_add = [gene for gene in p2_core if gene not in child_core]\n",
        "\n",
        "    # 자식의 비어있는(-1) 공간을 부모2의 유전자로 채움\n",
        "    p2_idx = 0\n",
        "    for i in range(n - 1):\n",
        "        if child_core[i] == -1:\n",
        "            child_core[i] = p2_genes_to_add[p2_idx]\n",
        "            p2_idx += 1\n",
        "\n",
        "    # 전체 경로 재구성 [시작도시, ...핵심경로..., 시작도시]\n",
        "    final_child = np.zeros(n + 1, dtype=np.int32)\n",
        "    final_child[0] = final_child[n] = p1[0] # 부모1의 시작 도시를 유지\n",
        "    final_child[1:-1] = child_core\n",
        "\n",
        "    return final_child\n",
        "\n",
        "def mutation_inversion(path):\n",
        "    \"\"\"Inversion Mutation.\"\"\"\n",
        "    n = len(path) - 1\n",
        "    # 경로의 핵심 부분(1 ~ n-1) 내에서 두 점 선택\n",
        "    i, j = np.sort(np.random.choice(range(1, n), 2, replace=False))\n",
        "    path[i:j+1] = np.flip(path[i:j+1])\n",
        "    return path"
      ]
    },
    {
      "cell_type": "code",
      "source": [
        "def limited_2_opt(path, path_map, max_attempts=5000):\n",
        "    \"\"\"제한된 횟수만큼 무작위 2-opt 교환을 시도하는 지역 탐색.\"\"\"\n",
        "    n = len(path) - 1\n",
        "    best_path = path.copy()\n",
        "    current_best_cost = path_cost(path_map, best_path)\n",
        "    for _ in range(max_attempts):\n",
        "        i, j = np.sort(np.random.choice(range(1, n), 2, replace=False))\n",
        "        p = best_path\n",
        "        old_dist = path_map[p[i-1], p[i]] + path_map[p[j], p[j+1]]\n",
        "        new_dist = path_map[p[i-1], p[j]] + path_map[p[i], p[j+1]]\n",
        "        if new_dist < old_dist:\n",
        "            best_path[i:j+1] = np.flip(best_path[i:j+1])\n",
        "            current_best_cost += (new_dist - old_dist)\n",
        "    return best_path, current_best_cost"
      ],
      "metadata": {
        "id": "uLGh2naxChIV"
      },
      "execution_count": 8,
      "outputs": []
    },
    {
      "cell_type": "code",
      "execution_count": 9,
      "metadata": {
        "id": "WCsKSpkOLhw0"
      },
      "outputs": [],
      "source": [
        "@timing\n",
        "def memetic_ga(coord_list):\n",
        "    start_time_main = time.time()\n",
        "    print('Start Memetic Algorithm (Hybrid GA)')\n",
        "\n",
        "    path_map = euclidean_distances(coord_list, coord_list)\n",
        "\n",
        "\n",
        "    MUTATION_RATE = 0.4\n",
        "    LOCAL_SEARCH_RATE = 0.2\n",
        "\n",
        "    print('Initialize the population')\n",
        "    path_pool, pool_cost = initialization(coord_list, path_map, POOL_SIZE)\n",
        "\n",
        "    best_idx = np.argmin(pool_cost)\n",
        "    best_path = path_pool[best_idx].copy()\n",
        "    best_cost = pool_cost[best_idx]\n",
        "\n",
        "    print(f\"Initial best cost: {best_cost:.2f}\")\n",
        "\n",
        "    # --- 시각화 준비 ---\n",
        "    if PLOT_MODE:\n",
        "        fig, ax = plt.subplots(figsize=(10, 10))\n",
        "        plt.ion() # 인터랙티브 모드 켜기\n",
        "\n",
        "    print('Start the evolution')\n",
        "    iteration = 0\n",
        "    while time.time() - start_time_main < TIME_LIMIT:\n",
        "        iteration += 1\n",
        "\n",
        "        # ... (선택, 교차, 변이, 지역탐색 등 기존 로직은 동일) ...\n",
        "        p1_idx = selection(pool_cost, TOURNAMENT_SIZE)\n",
        "        p2_idx = selection(pool_cost, TOURNAMENT_SIZE)\n",
        "        child = crossover_ox1(path_pool[p1_idx], path_pool[p2_idx])\n",
        "        if np.random.rand() < MUTATION_RATE:\n",
        "            child = mutation_inversion(child)\n",
        "        child_cost = path_cost(path_map, child)\n",
        "        if np.random.rand() < LOCAL_SEARCH_RATE:\n",
        "            child, child_cost = limited_2_opt(child, path_map)\n",
        "\n",
        "        # ... (교체 로직 동일) ...\n",
        "        worst_idx = np.argmax(pool_cost)\n",
        "        if child_cost < pool_cost[worst_idx]:\n",
        "            path_pool[worst_idx] = child\n",
        "            pool_cost[worst_idx] = child_cost\n",
        "\n",
        "        # --- ✨ 시각화 코드 적용 ---\n",
        "        # 전체 최고 기록 갱신 시 그림을 다시 그림\n",
        "        if child_cost < best_cost:\n",
        "            best_cost = child_cost\n",
        "            best_path = child.copy()\n",
        "            print(f\"New best cost at iter {iteration}: {best_cost:.2f}\")\n",
        "\n",
        "            if PLOT_MODE:\n",
        "                ax.scatter(coord_list[:, 0], coord_list[:, 1], c='red', s=10)\n",
        "                ax.set_title(f'City Route: Iteration {iteration} / Cost: {best_cost:.2f}')\n",
        "\n",
        "                route_xy = coord_list[best_path]\n",
        "                ax.plot(route_xy[:, 0], route_xy[:, 1], 'k--')\n",
        "\n",
        "                fig.canvas.draw()\n",
        "                fig.canvas.flush_events()\n",
        "\n",
        "\n",
        "    if PLOT_MODE:\n",
        "        plt.ioff()\n",
        "        plt.show()\n",
        "\n",
        "    print(f\"Total iterations in {TIME_LIMIT}s: {iteration}\")\n",
        "    return best_path, best_cost"
      ]
    },
    {
      "cell_type": "markdown",
      "metadata": {
        "id": "iCDNOuTALhw1"
      },
      "source": [
        "# Main"
      ]
    },
    {
      "cell_type": "code",
      "execution_count": null,
      "metadata": {
        "id": "L8KHQuiPLhw1",
        "outputId": "a4af422d-160d-4543-9670-6a378202ffab",
        "colab": {
          "base_uri": "https://localhost:8080/"
        }
      },
      "outputs": [
        {
          "output_type": "stream",
          "name": "stdout",
          "text": [
            "Problem loaded with 4475 cities.\n",
            "Start Memetic Algorithm (Hybrid GA)\n",
            "Initialize the population\n",
            "Initial best cost: 16183.40\n",
            "Start the evolution\n"
          ]
        }
      ],
      "source": [
        "try:\n",
        "\n",
        "    coord_list = fileloader()\n",
        "\n",
        "    if coord_list is not None:\n",
        "        num_cities = len(coord_list)\n",
        "        print(f\"Problem loaded with {num_cities} cities.\")\n",
        "\n",
        "        start_time_total = time.time()\n",
        "        best_path, best_cost = memetic_ga(coord_list)\n",
        "        end_time_total = time.time()\n",
        "\n",
        "        print(f\"\\nTotal Execution Time: {end_time_total - start_time_total:.4f} seconds\")\n",
        "        print(f\"Path: {best_path.tolist()}\")\n",
        "        print(f\"Final Cost: {best_cost}\")\n",
        "\n",
        "except Exception as e:\n",
        "    print(f'최종 실행 중 예외 발생: {e}')\n"
      ]
    },
    {
      "cell_type": "code",
      "execution_count": null,
      "metadata": {
        "id": "RvoiQnQGLhw1"
      },
      "outputs": [],
      "source": []
    }
  ],
  "metadata": {
    "kernelspec": {
      "display_name": "Python 3.10.6 64-bit",
      "language": "python",
      "name": "python3"
    },
    "language_info": {
      "codemirror_mode": {
        "name": "ipython",
        "version": 3
      },
      "file_extension": ".py",
      "mimetype": "text/x-python",
      "name": "python",
      "nbconvert_exporter": "python",
      "pygments_lexer": "ipython3",
      "version": "3.10.6"
    },
    "vscode": {
      "interpreter": {
        "hash": "b0fa6594d8f4cbf19f97940f81e996739fb7646882a419484c72d19e05852a7e"
      }
    },
    "colab": {
      "provenance": []
    }
  },
  "nbformat": 4,
  "nbformat_minor": 0
}